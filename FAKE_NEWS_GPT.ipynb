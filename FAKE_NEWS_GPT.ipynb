{
  "cells": [
    {
      "cell_type": "markdown",
      "metadata": {
        "id": "view-in-github",
        "colab_type": "text"
      },
      "source": [
        "<a href=\"https://colab.research.google.com/github/aaradhya466/AI_Driven_Fake_News_Detection/blob/main/FAKE_NEWS_GPT.ipynb\" target=\"_parent\"><img src=\"https://colab.research.google.com/assets/colab-badge.svg\" alt=\"Open In Colab\"/></a>"
      ]
    },
    {
      "cell_type": "code",
      "execution_count": null,
      "metadata": {
        "id": "bwDp7y74op7c"
      },
      "outputs": [],
      "source": [
        "import pandas as pd\n",
        "import numpy as np\n",
        "import re\n",
        "import string\n",
        "from sklearn.model_selection import train_test_split, GridSearchCV, cross_val_score\n",
        "from sklearn.metrics import accuracy_score, classification_report\n",
        "from sklearn.feature_extraction.text import TfidfVectorizer\n",
        "from sklearn.linear_model import LogisticRegression\n",
        "from sklearn.tree import DecisionTreeClassifier\n",
        "from sklearn.ensemble import RandomForestClassifier, GradientBoostingClassifier\n",
        "from xgboost import XGBClassifier"
      ]
    },
    {
      "cell_type": "code",
      "execution_count": null,
      "metadata": {
        "id": "7IoOY7XnyUEo"
      },
      "outputs": [],
      "source": [
        "# Loading dataset using pd.read_csv()\n",
        "path = \"/content/drive/MyDrive/Dataset/Fake.csv\"\n",
        "path2 = \"/content/drive/MyDrive/Dataset/True.csv\"\n",
        "df_fake = pd.read_csv(path)\n",
        "df_true = pd.read_csv(path2)"
      ]
    },
    {
      "cell_type": "code",
      "execution_count": null,
      "metadata": {
        "id": "8N1zcYlbyWVh"
      },
      "outputs": [],
      "source": [
        "# Clean up data - Removing Reuters and adding a target column where target value of fake news is 0 and real news is 1\n",
        "df_true[\"text\"] = df_true[\"text\"].replace(\"(Reuters)\", \"\", regex=True)\n",
        "df_fake[\"target\"] = 0\n",
        "df_true[\"target\"] = 1\n"
      ]
    },
    {
      "cell_type": "code",
      "execution_count": null,
      "metadata": {
        "id": "6NPccqdRyWv9"
      },
      "outputs": [],
      "source": [
        "# Drop unnecessary columns\n",
        "df_fake = df_fake.drop([\"title\", \"subject\", \"date\"], axis=1)\n",
        "df_true = df_true.drop([\"title\", \"subject\", \"date\"], axis=1)"
      ]
    },
    {
      "cell_type": "code",
      "execution_count": null,
      "metadata": {
        "id": "A4NcEFLtyXJN"
      },
      "outputs": [],
      "source": [
        "# Combine datasets into one dataframe and randomly shuffle the data , reset the index\n",
        "df = pd.concat([df_fake, df_true], axis=0).sample(frac=1).reset_index(drop=True)\n"
      ]
    },
    {
      "cell_type": "code",
      "execution_count": null,
      "metadata": {
        "id": "baCoh7bmyXdA"
      },
      "outputs": [],
      "source": [
        "# Text cleaning function\n",
        "def wordopt(text):\n",
        "    text = text.lower()\n",
        "    text = re.sub('\\[.*?\\]', '', text)\n",
        "    text = re.sub('[()]', '', text)\n",
        "    text = re.sub('\\\\W', ' ', text)\n",
        "    text = re.sub('https?://\\S+|www\\.\\S+', '', text)\n",
        "    text = re.sub('<.*?>+', '', text)\n",
        "    text = re.sub('[%s]' % re.escape(string.punctuation), '', text)\n",
        "    text = re.sub('\\n', '', text)\n",
        "    text = re.sub('\\w*\\d\\w*', '', text)\n",
        "    return text\n"
      ]
    },
    {
      "cell_type": "code",
      "execution_count": null,
      "metadata": {
        "id": "wjy6oyD_yhR0"
      },
      "outputs": [],
      "source": [
        "# Apply text cleaning on the data\n",
        "df[\"text\"] = df[\"text\"].apply(wordopt)"
      ]
    },
    {
      "cell_type": "code",
      "execution_count": null,
      "metadata": {
        "id": "97LCEjq-ykh4"
      },
      "outputs": [],
      "source": [
        "# Split data using train_test_split() . 75% of data for training data and 25% for testing\n",
        "X = df[\"text\"]\n",
        "Y = df[\"target\"]\n",
        "X_train, X_test, Y_train, Y_test = train_test_split(X, Y, test_size=0.25, random_state=42)\n"
      ]
    },
    {
      "cell_type": "code",
      "execution_count": null,
      "metadata": {
        "id": "vqs_oiESyoC5"
      },
      "outputs": [],
      "source": [
        "# Vectorization\n",
        "vectorization = TfidfVectorizer(max_features=5000, ngram_range=(1, 2))  # Adjusted parameters\n",
        "xv_train = vectorization.fit_transform(X_train)\n",
        "xv_test = vectorization.transform(X_test)"
      ]
    },
    {
      "cell_type": "code",
      "execution_count": null,
      "metadata": {
        "id": "NMINewIKyozv"
      },
      "outputs": [],
      "source": [
        "# Define all the five machine learning models\n",
        "models = {\n",
        "    'Logistic Regression': LogisticRegression(),\n",
        "    'Decision Tree': DecisionTreeClassifier(),\n",
        "    'Random Forest': RandomForestClassifier(),\n",
        "    'Gradient Boosting': GradientBoostingClassifier(),\n",
        "    'XGBoost': XGBClassifier(use_label_encoder=False, eval_metric='logloss')\n",
        "}"
      ]
    },
    {
      "cell_type": "code",
      "execution_count": null,
      "metadata": {
        "colab": {
          "background_save": true,
          "base_uri": "https://localhost:8080/"
        },
        "id": "KFOHGeF0yx9l",
        "outputId": "708f0922-16f1-4826-fe63-193c6955a86f"
      },
      "outputs": [
        {
          "name": "stdout",
          "output_type": "stream",
          "text": [
            "The Accuracy of the Logistic Regression Model is 0.9848\n",
            "              precision    recall  f1-score   support\n",
            "\n",
            "           0       0.99      0.98      0.99      5919\n",
            "           1       0.98      0.99      0.98      5306\n",
            "\n",
            "    accuracy                           0.98     11225\n",
            "   macro avg       0.98      0.98      0.98     11225\n",
            "weighted avg       0.98      0.98      0.98     11225\n",
            "\n",
            "The Accuracy of the Decision Tree Model is 0.9589\n",
            "              precision    recall  f1-score   support\n",
            "\n",
            "           0       0.95      0.97      0.96      5919\n",
            "           1       0.97      0.95      0.96      5306\n",
            "\n",
            "    accuracy                           0.96     11225\n",
            "   macro avg       0.96      0.96      0.96     11225\n",
            "weighted avg       0.96      0.96      0.96     11225\n",
            "\n",
            "The Accuracy of the Random Forest Model is 0.9889\n",
            "              precision    recall  f1-score   support\n",
            "\n",
            "           0       0.99      0.99      0.99      5919\n",
            "           1       0.99      0.99      0.99      5306\n",
            "\n",
            "    accuracy                           0.99     11225\n",
            "   macro avg       0.99      0.99      0.99     11225\n",
            "weighted avg       0.99      0.99      0.99     11225\n",
            "\n",
            "The Accuracy of the Gradient Boosting Model is 0.9728\n",
            "              precision    recall  f1-score   support\n",
            "\n",
            "           0       0.98      0.97      0.97      5919\n",
            "           1       0.97      0.97      0.97      5306\n",
            "\n",
            "    accuracy                           0.97     11225\n",
            "   macro avg       0.97      0.97      0.97     11225\n",
            "weighted avg       0.97      0.97      0.97     11225\n",
            "\n"
          ]
        },
        {
          "name": "stderr",
          "output_type": "stream",
          "text": [
            "/usr/local/lib/python3.10/dist-packages/xgboost/core.py:158: UserWarning: [05:28:44] WARNING: /workspace/src/learner.cc:740: \n",
            "Parameters: { \"use_label_encoder\" } are not used.\n",
            "\n",
            "  warnings.warn(smsg, UserWarning)\n"
          ]
        },
        {
          "name": "stdout",
          "output_type": "stream",
          "text": [
            "The Accuracy of the XGBoost Model is 0.9920\n",
            "              precision    recall  f1-score   support\n",
            "\n",
            "           0       0.99      0.99      0.99      5919\n",
            "           1       0.99      0.99      0.99      5306\n",
            "\n",
            "    accuracy                           0.99     11225\n",
            "   macro avg       0.99      0.99      0.99     11225\n",
            "weighted avg       0.99      0.99      0.99     11225\n",
            "\n"
          ]
        }
      ],
      "source": [
        "# Train and evaluate models\n",
        "for name, model in models.items():\n",
        "    model.fit(xv_train, Y_train)\n",
        "    score = model.score(xv_test, Y_test)\n",
        "    print(f\"The Accuracy of the {name} Model is {score:.4f}\") # Model score\n",
        "    print(classification_report(Y_test, model.predict(xv_test))) # Classification Report\n"
      ]
    },
    {
      "cell_type": "code",
      "execution_count": null,
      "metadata": {
        "colab": {
          "background_save": true
        },
        "id": "m717nNMny0qO"
      },
      "outputs": [],
      "source": [
        "# Manual testing function\n",
        "def output_label(n):\n",
        "    return \"Fake News\" if n == 0 else \"Not A Fake News\"\n",
        "\n",
        "def manual_testing(news):\n",
        "    testing_news = {\"text\": [news]}\n",
        "    new_def_test = pd.DataFrame(testing_news)\n",
        "    new_def_test[\"text\"] = new_def_test[\"text\"].apply(wordopt)\n",
        "    new_x_test = new_def_test[\"text\"]\n",
        "    new_xv_test = vectorization.transform(new_x_test)\n",
        "\n",
        "    predictions = {name: model.predict(new_xv_test)[0] for name, model in models.items()}\n",
        "    results = {name: output_label(pred) for name, pred in predictions.items()}\n",
        "\n",
        "    return results"
      ]
    },
    {
      "cell_type": "code",
      "execution_count": null,
      "metadata": {
        "id": "gs_OeZwS265t"
      },
      "outputs": [],
      "source": [
        "news = str(input(\"Enter news headline: \"))\n",
        "predictions = manual_testing(news)\n",
        "for model, prediction in predictions.items():\n",
        "    print(f\"{model} Prediction: {prediction}\")"
      ]
    }
  ],
  "metadata": {
    "colab": {
      "provenance": [],
      "mount_file_id": "1vmH63ySFvID1hDdDnqa_aMiJgFi7uqKm",
      "authorship_tag": "ABX9TyPk/qnhDL0SkiE5Xc65yGqU",
      "include_colab_link": true
    },
    "kernelspec": {
      "display_name": "Python 3",
      "name": "python3"
    },
    "language_info": {
      "name": "python"
    }
  },
  "nbformat": 4,
  "nbformat_minor": 0
}